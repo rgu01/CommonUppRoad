{
 "cells": [
  {
   "cell_type": "markdown",
   "metadata": {},
   "source": [
    "# Tutorial: Interactive Scenario Simulation"
   ]
  },
  {
   "cell_type": "markdown",
   "metadata": {},
   "source": [
    "This tutorial explains how run interactive scenarios using the code from the repository [https://gitlab.lrz.de/tum-cps/commonroad-interactive-scenarios](https://gitlab.lrz.de/tum-cps/commonroad-interactive-scenarios). We obtain interactive scenarios by coupling CommonRoad with the traffic simulator [SUMO](https://sumo.dlr.de/docs/index.html). Below, a scenario is referred to as **recorded** if all other traffic participants therein follow pre-recorded trajectories, whereas in an **interactive** scenario, other traffic participants react to the ego vehicle. Currently supported options for interactive scenario simulation are:\n",
    "  1. Simulation without an ego vehicle.\n",
    "  2. Simulation with a plugged-in motion planner.\n",
    "  3. Simulation with a solution trajectory to the planning problem.\n",
    "\n",
    "In the following sections, you will be able to observe the varied behaviors of other traffic participants towards the motion of the ego vehicle. "
   ]
  },
  {
   "cell_type": "markdown",
   "metadata": {},
   "source": [
    "## 0. Preparation\n",
    "Before you proceed with this tutorial, we assume that:\n",
    "* you have gone through the tutorials on [CommonRoad Input-Output](https://commonroad.in.tum.de/tutorials/commonroad-interface) and have a basic understanding of the CommonRoad scenarios.\n",
    "* you have successfully installed all necessary modules for the interactive benchmark by running the installation script.\n",
    "\n",
    "Here, we import necessary packages for the simulation. Also, we specify some required path and parameters required for the simulation. As an example, we demonstrate the simulation with scenario `DEU_Frankfurt-34_11_I-1`, which is located under the folder `./interactive_scenarios`."
   ]
  },
  {
   "cell_type": "code",
   "execution_count": 10,
   "metadata": {},
   "outputs": [
    {
     "name": "stdout",
     "output_type": "stream",
     "text": [
      "The autoreload extension is already loaded. To reload it, use:\n",
      "  %reload_ext autoreload\n"
     ]
    }
   ],
   "source": [
    "%load_ext autoreload\n",
    "%autoreload 2\n",
    "\n",
    "import os, sys\n",
    "sys.path.append(os.path.join(os.getcwd(), \"../\"))\n",
    "\n",
    "from simulation.simulations import simulate_without_ego, simulate_with_solution, simulate_with_planner\n",
    "from simulation.utility import visualize_scenario_with_trajectory, save_solution\n",
    "from commonroad.common.file_writer import CommonRoadFileWriter, OverwriteExistingFile\n",
    "from commonroad.common.solution import CommonRoadSolutionReader, VehicleType, VehicleModel, CostFunction\n",
    "from commonroad.scenario.scenario import Tag\n",
    "\n",
    "path = os.path.abspath(\"\")\n",
    "\n",
    "# specify required arguments\n",
    "name_scenario = \"DEU_Frankfurt-34_11_I-1\"\n",
    "# replace with local folder path (in this case we cloned the whole repository from https://gitlab.lrz.de/tum-cps/commonroad-scenarios/-/tree/2020a_scenarios):\n",
    "folder_scenarios = os.path.join(path, \"interactive_scenarios\")\n",
    "path_scenario = os.path.join(folder_scenarios, name_scenario)\n",
    "# path where solutions are stored\n",
    "path_solutions = os.path.join(path, \"../outputs/solutions\")\n",
    "\n",
    "# path to store output video\n",
    "path_video = os.path.join(path, \"../outputs/videos\")\n",
    "\n",
    "# path to store simulated scenarios\n",
    "path_scenarios_simulated = os.path.join(path, \"../outputs/simulated_scenarios\")\n",
    "\n",
    "# demo attributes for saving the simulated scenarios\n",
    "author = 'Max Mustermann'\n",
    "affiliation = 'Technical University of Munich, Germany'\n",
    "source = ''\n",
    "tags = {Tag.URBAN}\n",
    "\n",
    "vehicle_type = VehicleType.FORD_ESCORT\n",
    "vehicle_model = VehicleModel.KS\n",
    "cost_function = CostFunction.TR1"
   ]
  },
  {
   "cell_type": "markdown",
   "metadata": {},
   "source": [
    "## 1. Simulation without an Ego Vehicle\n",
    "\n",
    "As the start, we demonstrate how to run the simulation in SUMO without considering the ego vehicle. This is beneficial for observing the default behaviour of other traffic participants. The simulation is executed by calling the function **simulate_without_ego()** with the following arguments:\n",
    "* **interactive_scenario_path**: path to the folder containing required SUMO network files for the sceanrio. \n",
    "* **output_folder_path**: path to the output folder.\n",
    "* **create_video**: indicates whether to create a video of the simulated scenario. **Default value**: False\n",
    "\n",
    "We save the simulated scenario to a local CommonRoad xml file.\n",
    "\n",
    "Note: it is alright if you see some SUMO simulation-related warnings."
   ]
  },
  {
   "cell_type": "code",
   "execution_count": 11,
   "metadata": {},
   "outputs": [
    {
     "name": "stdout",
     "output_type": "stream",
     "text": [
      " Retrying in 1 seconds\n"
     ]
    }
   ],
   "source": [
    "# run simulation, a video animation of the simulation is stored in the end\n",
    "scenario_without_ego, pps = simulate_without_ego(interactive_scenario_path=path_scenario,\n",
    "                                                 output_folder_path=path_video,\n",
    "                                                 create_video=True)\n",
    "# write simulated scenario to CommonRoad xml file\n",
    "fw = CommonRoadFileWriter(scenario_without_ego, pps, author, affiliation, source, tags)\n",
    "fw.write_to_file(os.path.join(path_scenarios_simulated, name_scenario + \"_no_ego.xml\"), OverwriteExistingFile.ALWAYS)"
   ]
  },
  {
   "cell_type": "markdown",
   "metadata": {},
   "source": [
    "## 2. Simulation with a Plugged-in Motion Planner\n",
    "\n",
    "Naturally, we would like to test the performance of our motion planners against the interactive scenarios. This is possible thanks to the [CR-SUMO Interface](https://gitlab.lrz.de/tum-cps/commonroad-sumo-interface), which provides an easy-to-use interface for retrieving and setting the states of the ego vehicles during SUMO simulation.\n",
    "\n",
    "The simulation is executed by calling the function **simulate_with_planner()**. It has the same arguments as **simulate_without_ego()**, with one extra optional argument:\n",
    "* **create_ego_obstacle**: indicates whether to create obstacles from the planned trajectories as the ego vehicles.\n",
    "\n",
    "The motion planner is plugged in at `simulation/simulations.py/simulate_scenario()`. A demo planner is given in lines 134-146, which simply decelerates the ego vehicle to full stop:\n",
    "```python\n",
    "next_state = copy.deepcopy(state_current_ego)\n",
    "# ====== plug in your motion planner here\n",
    "# example motion planner which decelerates to full stop\n",
    "a = -5.0\n",
    "dt = 0.1\n",
    "if next_state.velocity > 0:\n",
    "    v = next_state.velocity\n",
    "    x, y = next_state.position\n",
    "    o = next_state.orientation\n",
    "\n",
    "    next_state.position = np.array([x + v * cos(o) * dt, y + v * sin(o) * dt])\n",
    "    next_state.velocity += a * dt\n",
    "# ====== end of motion planner\n",
    "```\n",
    "\n",
    "We save the simulated scenario to a local CommonRoad xml file. Optionally, we can also save the planned trajectory to a solution file."
   ]
  },
  {
   "cell_type": "code",
   "execution_count": null,
   "metadata": {
    "pycharm": {
     "is_executing": true
    }
   },
   "outputs": [
    {
     "name": "stdout",
     "output_type": "stream",
     "text": [
      " Retrying in 1 seconds\n"
     ]
    }
   ],
   "source": [
    "# run simulation, an animation of the simulation is stored in the end\n",
    "scenario_with_planner, pps, ego_vehicles_planner = simulate_with_planner(interactive_scenario_path=path_scenario,\n",
    "                                                                         output_folder_path=path_video,\n",
    "                                                                         create_video=True)"
   ]
  },
  {
   "cell_type": "code",
   "execution_count": null,
   "metadata": {
    "pycharm": {
     "name": "#%%\n",
     "is_executing": true
    }
   },
   "outputs": [],
   "source": [
    "# write simulated scenario to CommonRoad xml file\n",
    "if scenario_with_planner:\n",
    "    # write simulated scenario to file\n",
    "    fw = CommonRoadFileWriter(scenario_with_planner, pps, author, affiliation, source, tags)\n",
    "    fw.write_to_file(os.path.join(path_scenarios_simulated, name_scenario + \"_planner.xml\"), OverwriteExistingFile.ALWAYS)\n",
    "    \n",
    "    # save the planned trajectory to solution file\n",
    "    save_solution(scenario_with_planner, pps, ego_vehicles_planner, vehicle_type, vehicle_model, cost_function,\n",
    "                  path_solutions, overwrite=True)"
   ]
  },
  {
   "cell_type": "markdown",
   "metadata": {},
   "source": [
    "## 3. Simulation with a Solution Trajectory\n",
    "\n",
    "Provided that we have a solution trajectory to the interactive scenario, we can easily replay and re-simulate the scenario.\n",
    "\n",
    "The simulation is executed by calling the function **simulate_with_solution()**. It has the same arguments as **simulate_without_ego()**, with one extra mandatory argument:\n",
    "* **solution**: solution file to the planning problem.\n",
    "\n",
    "Here, we re-simulate the scenario with a pre-computed solution trajectory."
   ]
  },
  {
   "cell_type": "code",
   "execution_count": null,
   "metadata": {
    "pycharm": {
     "is_executing": true
    }
   },
   "outputs": [],
   "source": [
    "name_solution = \"solution_KS1:TR1:DEU_Frankfurt-34_11_I-1:2020a\"\n",
    "solution = CommonRoadSolutionReader.open(os.path.join(path_solutions, name_solution + \".xml\"))"
   ]
  },
  {
   "cell_type": "code",
   "execution_count": null,
   "metadata": {
    "pycharm": {
     "is_executing": true
    }
   },
   "outputs": [],
   "source": [
    "# run simulation, a video of the simulation is stored in the end\n",
    "scenario_with_solution, pps, ego_vehicles_solution = simulate_with_solution(interactive_scenario_path=path_scenario,\n",
    "                                                                            output_folder_path=path_video,\n",
    "                                                                            solution=solution,\n",
    "                                                                            create_video=True)\n",
    "# write simulated scenario to CommonRoad xml file\n",
    "if scenario_with_solution:\n",
    "    # write simulated scenario to file\n",
    "    fw = CommonRoadFileWriter(scenario_with_solution, pps, author, affiliation, source, tags)\n",
    "    fw.write_to_file(os.path.join(path_scenarios_simulated, name_scenario + \"_solution.xml\"), OverwriteExistingFile.ALWAYS)"
   ]
  },
  {
   "cell_type": "markdown",
   "metadata": {},
   "source": [
    "## 4. Examining the Simulation Results\n",
    "\n",
    "Now, it's time to examine and compare the simulation results. A helper function **visualize_scenario_with_trajectory()** is called to animate the scenario. "
   ]
  },
  {
   "cell_type": "code",
   "execution_count": null,
   "metadata": {
    "pycharm": {
     "is_executing": true
    }
   },
   "outputs": [],
   "source": [
    "%matplotlib inline\n",
    "visualize_scenario_with_trajectory(scenario_without_ego, pps)"
   ]
  },
  {
   "cell_type": "code",
   "execution_count": null,
   "metadata": {
    "pycharm": {
     "is_executing": true
    }
   },
   "outputs": [],
   "source": [
    "visualize_scenario_with_trajectory(scenario_with_planner, pps, ego_vehicles_planner)"
   ]
  },
  {
   "cell_type": "code",
   "execution_count": null,
   "metadata": {
    "pycharm": {
     "is_executing": true
    }
   },
   "outputs": [],
   "source": [
    "visualize_scenario_with_trajectory(scenario_with_solution, pps, ego_vehicles_solution)"
   ]
  },
  {
   "cell_type": "markdown",
   "metadata": {},
   "source": [
    "As can be seen from the animation, when the ego vehicle (green rectangle) is present, the other traffic participants behave differently and react accordingly. To better compare the scenarios, you can find the created video files under `/outputs/videos/`, and saved scenarios under `/outputs/simulated_scenarios/`."
   ]
  },
  {
   "cell_type": "code",
   "execution_count": null,
   "metadata": {
    "pycharm": {
     "is_executing": true
    }
   },
   "outputs": [],
   "source": []
  }
 ],
 "metadata": {
  "kernelspec": {
   "display_name": "Python 3",
   "language": "python",
   "name": "python3"
  },
  "language_info": {
   "codemirror_mode": {
    "name": "ipython",
    "version": 3
   },
   "file_extension": ".py",
   "mimetype": "text/x-python",
   "name": "python",
   "nbconvert_exporter": "python",
   "pygments_lexer": "ipython3",
   "version": "3.8.10"
  }
 },
 "nbformat": 4,
 "nbformat_minor": 4
}