{
 "cells": [
  {
   "cell_type": "markdown",
   "metadata": {
    "pycharm": {
     "name": "#%% md\n"
    }
   },
   "source": [
    "# Tutorial 01 - Data Preprocessing\n",
    "\n",
    "We provide a converter to convert raw datasets into [CommonRoad scenarios](https://commonroad.in.tum.de/scenarios) in `.xml` format. The public converter is available [here](https://commonroad.in.tum.de/dataset-converters). In addition, CommonRoad-RL provides tools (`./commonroad_rl/tools/pickle_scenario`) to convert `.xml` scenarios to `.pickle` format to save loading time for the training. \n",
    "\n",
    "This tutorial shows how to utilize the tools to prepare training and testing data for the highD dataset. A similar procedure follows for the inD dataset."
   ]
  },
  {
   "cell_type": "markdown",
   "metadata": {
    "pycharm": {
     "name": "#%% md\n"
    }
   },
   "source": [
    "## 0. Preparation\n",
    "Please follow the README.md to install the CommonRoad-RL package and make sure the followings:\n",
    "* current path is at `commonroad-rl/commonroad_rl`, i.e. one upper layer to the `tutorials` folder\n",
    "* interactive python kernel is triggered from the correct environment"
   ]
  },
  {
   "cell_type": "code",
   "execution_count": 1,
   "metadata": {
    "pycharm": {
     "is_executing": true,
     "name": "#%%\n"
    }
   },
   "outputs": [
    {
     "name": "stdout",
     "output_type": "stream",
     "text": [
      "/home/andreashhp/Documents/university/projects/CommonUppRoad/commonroad-rl/commonroad_rl\n"
     ]
    },
    {
     "data": {
      "text/plain": [
       "'/home/andreashhp/miniconda3/envs/commonUpp/bin/python'"
      ]
     },
     "execution_count": 1,
     "metadata": {},
     "output_type": "execute_result"
    }
   ],
   "source": [
    "from pathlib import Path\n",
    "from warnings import warn\n",
    "\n",
    "# Check and set current path\n",
    "current_path = Path().absolute()\n",
    "if current_path.name == \"tutorials\":\n",
    "    base_path = current_path.parent\n",
    "elif current_path.name != \"commonroad_rl\":\n",
    "    warn(\"Expected different path: Please ensure that the pwd is at commonroad-rl/commonroad_rl\")\n",
    "else:\n",
    "    base_path = current_path\n",
    "\n",
    "%cd $base_path\n",
    "%pwd\n",
    "\n",
    "# Check interactive python kernel\n",
    "import sys\n",
    "sys.executable"
   ]
  },
  {
   "cell_type": "markdown",
   "metadata": {
    "pycharm": {
     "name": "#%% md\n"
    }
   },
   "source": [
    "## 1. Acquire the dataset\n",
    "To download the whole raw highD dataset, please go to [the highD home page](https://www.highd-dataset.com).\n",
    "\n",
    "To facilitate the following exercises, we have prepared sample data under `tutorials/data/highd/raw`, where you should see three csv files recording the track information and one jpg file showing the track background."
   ]
  },
  {
   "cell_type": "markdown",
   "metadata": {
    "pycharm": {
     "name": "#%% md\n"
    }
   },
   "source": [
    "## 2. Convert raw .csv data to .xml files\n",
    "\n",
    "Clone and install [dataset-converters](https://gitlab.lrz.de/tum-cps/dataset-converters/-/tree/master) in `commonroad-rl/external/commonroad-io` folder."
   ]
  },
  {
   "cell_type": "code",
   "execution_count": 2,
   "metadata": {
    "pycharm": {
     "name": "#%%\n"
    }
   },
   "outputs": [
    {
     "name": "stdout",
     "output_type": "stream",
     "text": [
      "[Errno 2] No such file or directory: '/home/andreashhp/Documents/university/projects/CommonUppRoad/commonroad-rl/external/commonroad-io'\n",
      "/home/andreashhp/Documents/university/projects/CommonUppRoad/commonroad-rl/commonroad_rl\n",
      "Cloning into 'dataset-converters'...\n",
      "remote: Enumerating objects: 1792, done.\u001b[K\n",
      "remote: Counting objects: 100% (1624/1624), done.\u001b[K\n",
      "remote: Compressing objects: 100% (1096/1096), done.\u001b[K\n",
      "remote: Total 1792 (delta 907), reused 951 (delta 479), pack-reused 168\u001b[K\n",
      "Receiving objects: 100% (1792/1792), 112.88 MiB | 2.91 MiB/s, done.\n",
      "Resolving deltas: 100% (1004/1004), done.\n",
      "/home/andreashhp/Documents/university/projects/CommonUppRoad/commonroad-rl/commonroad_rl/dataset-converters\n",
      "Requirement already satisfied: numpy>=1.18.2 in /home/andreashhp/miniconda3/envs/commonUpp/lib/python3.7/site-packages (from -r requirements.txt (line 1)) (1.21.5)\n",
      "Requirement already satisfied: commonroad-io>=2020.3 in /home/andreashhp/miniconda3/envs/commonUpp/lib/python3.7/site-packages (from -r requirements.txt (line 2)) (2022.3)\n",
      "Requirement already satisfied: pandas>=0.24.2 in /home/andreashhp/miniconda3/envs/commonUpp/lib/python3.7/site-packages (from -r requirements.txt (line 3)) (1.3.5)\n",
      "Requirement already satisfied: scipy>=1.4.1 in /home/andreashhp/miniconda3/envs/commonUpp/lib/python3.7/site-packages (from -r requirements.txt (line 4)) (1.7.3)\n",
      "Collecting ruamel.yaml>=0.16.10\n",
      "  Downloading ruamel.yaml-0.18.6-py3-none-any.whl (117 kB)\n",
      "\u001b[K     |████████████████████████████████| 117 kB 1.9 MB/s eta 0:00:01\n",
      "\u001b[?25hRequirement already satisfied: Pillow>=7.0.0 in /home/andreashhp/miniconda3/envs/commonUpp/lib/python3.7/site-packages (from commonroad-io>=2020.3->-r requirements.txt (line 2)) (9.5.0)\n",
      "Requirement already satisfied: iso3166>=1.0.1 in /home/andreashhp/miniconda3/envs/commonUpp/lib/python3.7/site-packages (from commonroad-io>=2020.3->-r requirements.txt (line 2)) (2.1.1)\n",
      "Requirement already satisfied: shapely>=1.6.4 in /home/andreashhp/miniconda3/envs/commonUpp/lib/python3.7/site-packages (from commonroad-io>=2020.3->-r requirements.txt (line 2)) (1.8.5)\n",
      "Requirement already satisfied: omegaconf>=2.0 in /home/andreashhp/miniconda3/envs/commonUpp/lib/python3.7/site-packages (from commonroad-io>=2020.3->-r requirements.txt (line 2)) (2.3.0)\n",
      "Requirement already satisfied: networkx>=2.2 in /home/andreashhp/miniconda3/envs/commonUpp/lib/python3.7/site-packages (from commonroad-io>=2020.3->-r requirements.txt (line 2)) (2.6.3)\n",
      "Requirement already satisfied: protobuf==3.20.1 in /home/andreashhp/miniconda3/envs/commonUpp/lib/python3.7/site-packages (from commonroad-io>=2020.3->-r requirements.txt (line 2)) (3.20.1)\n",
      "Requirement already satisfied: tqdm>=4.64 in /home/andreashhp/miniconda3/envs/commonUpp/lib/python3.7/site-packages (from commonroad-io>=2020.3->-r requirements.txt (line 2)) (4.66.4)\n",
      "Requirement already satisfied: rtree>=0.8.3 in /home/andreashhp/miniconda3/envs/commonUpp/lib/python3.7/site-packages (from commonroad-io>=2020.3->-r requirements.txt (line 2)) (1.0.1)\n",
      "Requirement already satisfied: commonroad-vehicle-models>=2.0.0 in /home/andreashhp/miniconda3/envs/commonUpp/lib/python3.7/site-packages (from commonroad-io>=2020.3->-r requirements.txt (line 2)) (3.0.2)\n",
      "Requirement already satisfied: lxml>=4.2.2 in /home/andreashhp/miniconda3/envs/commonUpp/lib/python3.7/site-packages (from commonroad-io>=2020.3->-r requirements.txt (line 2)) (5.2.1)\n",
      "Requirement already satisfied: matplotlib>=3.0.0 in /home/andreashhp/miniconda3/envs/commonUpp/lib/python3.7/site-packages (from commonroad-io>=2020.3->-r requirements.txt (line 2)) (3.5.3)\n",
      "Requirement already satisfied: pytz>=2017.3 in /home/andreashhp/miniconda3/envs/commonUpp/lib/python3.7/site-packages (from pandas>=0.24.2->-r requirements.txt (line 3)) (2024.1)\n",
      "Requirement already satisfied: python-dateutil>=2.7.3 in /home/andreashhp/miniconda3/envs/commonUpp/lib/python3.7/site-packages (from pandas>=0.24.2->-r requirements.txt (line 3)) (2.9.0.post0)\n",
      "Collecting ruamel.yaml.clib>=0.2.7; platform_python_implementation == \"CPython\" and python_version < \"3.13\"\n",
      "  Downloading ruamel.yaml.clib-0.2.8-cp37-cp37m-manylinux_2_5_x86_64.manylinux1_x86_64.whl (551 kB)\n",
      "\u001b[K     |████████████████████████████████| 551 kB 8.5 MB/s eta 0:00:01\n",
      "\u001b[?25hRequirement already satisfied: antlr4-python3-runtime==4.9.* in /home/andreashhp/miniconda3/envs/commonUpp/lib/python3.7/site-packages (from omegaconf>=2.0->commonroad-io>=2020.3->-r requirements.txt (line 2)) (4.9.3)\n",
      "Requirement already satisfied: PyYAML>=5.1.0 in /home/andreashhp/miniconda3/envs/commonUpp/lib/python3.7/site-packages (from omegaconf>=2.0->commonroad-io>=2020.3->-r requirements.txt (line 2)) (6.0.1)\n",
      "Requirement already satisfied: typing-extensions>=3.7; python_version < \"3.8\" in /home/andreashhp/miniconda3/envs/commonUpp/lib/python3.7/site-packages (from rtree>=0.8.3->commonroad-io>=2020.3->-r requirements.txt (line 2)) (4.4.0)\n",
      "Requirement already satisfied: fonttools>=4.22.0 in /home/andreashhp/miniconda3/envs/commonUpp/lib/python3.7/site-packages (from matplotlib>=3.0.0->commonroad-io>=2020.3->-r requirements.txt (line 2)) (4.38.0)\n",
      "Requirement already satisfied: pyparsing>=2.2.1 in /home/andreashhp/miniconda3/envs/commonUpp/lib/python3.7/site-packages (from matplotlib>=3.0.0->commonroad-io>=2020.3->-r requirements.txt (line 2)) (2.4.7)\n",
      "Requirement already satisfied: kiwisolver>=1.0.1 in /home/andreashhp/miniconda3/envs/commonUpp/lib/python3.7/site-packages (from matplotlib>=3.0.0->commonroad-io>=2020.3->-r requirements.txt (line 2)) (1.4.5)\n",
      "Requirement already satisfied: cycler>=0.10 in /home/andreashhp/miniconda3/envs/commonUpp/lib/python3.7/site-packages (from matplotlib>=3.0.0->commonroad-io>=2020.3->-r requirements.txt (line 2)) (0.11.0)\n",
      "Requirement already satisfied: packaging>=20.0 in /home/andreashhp/miniconda3/envs/commonUpp/lib/python3.7/site-packages (from matplotlib>=3.0.0->commonroad-io>=2020.3->-r requirements.txt (line 2)) (24.0)\n",
      "Requirement already satisfied: six>=1.5 in /home/andreashhp/miniconda3/envs/commonUpp/lib/python3.7/site-packages (from python-dateutil>=2.7.3->pandas>=0.24.2->-r requirements.txt (line 3)) (1.16.0)\n",
      "Installing collected packages: ruamel.yaml.clib, ruamel.yaml\n",
      "Successfully installed ruamel.yaml-0.18.6 ruamel.yaml.clib-0.2.8\n"
     ]
    }
   ],
   "source": [
    "io_path = base_path.parent / \"external/commonroad-io\"\n",
    "%cd $io_path\n",
    "!git clone https://gitlab.lrz.de/tum-cps/dataset-converters.git\n",
    "%cd dataset-converters\n",
    "\n",
    "!pip install -r requirements.txt "
   ]
  },
  {
   "cell_type": "code",
   "execution_count": 3,
   "metadata": {},
   "outputs": [
    {
     "name": "stdout",
     "output_type": "stream",
     "text": [
      "[Errno 2] No such file or directory: '/home/andreashhp/Documents/university/projects/CommonUppRoad/commonroad-rl/external/commonroad-io/dataset-converters'\n",
      "/home/andreashhp/Documents/university/projects/CommonUppRoad/commonroad-rl/commonroad_rl/dataset-converters\n",
      "Traceback (most recent call last):\n",
      "  File \"/home/andreashhp/miniconda3/envs/commonUpp/lib/python3.7/runpy.py\", line 193, in _run_module_as_main\n",
      "    \"__main__\", mod_spec)\n",
      "  File \"/home/andreashhp/miniconda3/envs/commonUpp/lib/python3.7/runpy.py\", line 85, in _run_code\n",
      "    exec(code, run_globals)\n",
      "  File \"/home/andreashhp/Documents/university/projects/CommonUppRoad/commonroad-rl/commonroad_rl/dataset-converters/src/main.py\", line 85, in <module>\n",
      "    main(args)\n",
      "  File \"/home/andreashhp/Documents/university/projects/CommonUppRoad/commonroad-rl/commonroad_rl/dataset-converters/src/main.py\", line 61, in main\n",
      "    args.num_processes, args.downsample, args.num_vertices)\n",
      "  File \"/home/andreashhp/Documents/university/projects/CommonUppRoad/commonroad-rl/commonroad_rl/dataset-converters/src/highD/highd_to_cr.py\", line 191, in create_highd_scenarios\n",
      "    highd_config = load_yaml(os.path.dirname(os.path.abspath(__file__)) + \"/config.yaml\")\n",
      "  File \"/home/andreashhp/Documents/university/projects/CommonUppRoad/commonroad-rl/commonroad_rl/dataset-converters/src/helper.py\", line 14, in load_yaml\n",
      "    config = ruamel.yaml.round_trip_load(stream, preserve_quotes=True)\n",
      "  File \"/home/andreashhp/miniconda3/envs/commonUpp/lib/python3.7/site-packages/ruamel/yaml/main.py\", line 1127, in round_trip_load\n",
      "    error_deprecation('round_trip_load_all', 'load')\n",
      "  File \"/home/andreashhp/miniconda3/envs/commonUpp/lib/python3.7/site-packages/ruamel/yaml/main.py\", line 1037, in error_deprecation\n",
      "    raise AttributeError(s)\n",
      "AttributeError: \n",
      "\"round_trip_load_all()\" has been removed, use\n",
      "\n",
      "  yaml = YAML()\n",
      "  yaml.load(...)\n",
      "\n",
      "instead of file \"/home/andreashhp/Documents/university/projects/CommonUppRoad/commonroad-rl/commonroad_rl/dataset-converters/src/helper.py\", line 14\n",
      "\n",
      "            config = ruamel.yaml.round_trip_load(stream, preserve_quotes=True)\n",
      "\n",
      "\n"
     ]
    }
   ],
   "source": [
    "raw_path = base_path / \"tutorials/data/highD/raw/\"\n",
    "xml_path = base_path / \"tutorials/data/highD/xmls/\"\n",
    "dc_path = base_path.parent / \"external/commonroad-io/dataset-converters/\"\n",
    "%cd $dc_path\n",
    "\n",
    "!python -m src.main highD $raw_path $xml_path --num_time_steps_scenario 1000"
   ]
  },
  {
   "cell_type": "markdown",
   "metadata": {
    "pycharm": {
     "name": "#%% md\n"
    }
   },
   "source": [
    "Now there should be 51 `.xml` files in the output folder `tutorials/data/highd/xmls`.\n",
    "\n",
    "Note: When converting inD data, make sure to set the flag `--routability_check strict` to ensure that only valid scenarios are converted!"
   ]
  },
  {
   "cell_type": "markdown",
   "metadata": {
    "pycharm": {
     "name": "#%% md\n"
    }
   },
   "source": [
    "## 3. Validate .xml files against CommonRoad .xsd specification\n",
    "\n",
    "To check if the converted `.xml` files comply with the CommonRoad scenario format, use the validation tool in `commonroad_rl/tools`."
   ]
  },
  {
   "cell_type": "code",
   "execution_count": 4,
   "metadata": {
    "pycharm": {
     "name": "#%%\n"
    }
   },
   "outputs": [
    {
     "name": "stdout",
     "output_type": "stream",
     "text": [
      "/home/andreashhp/Documents/university/projects/CommonUppRoad/commonroad-rl/commonroad_rl\n",
      "zsh:1: no matches found: tutorials/data/highD/xmls/*\r\n"
     ]
    }
   ],
   "source": [
    "%cd $base_path\n",
    "!python -m commonroad_rl.tools.validate_cr -s tools/XML_commonRoad_XSD_2020a.xsd tutorials/data/highD/xmls/*"
   ]
  },
  {
   "cell_type": "markdown",
   "metadata": {
    "pycharm": {
     "name": "#%% md\n"
    }
   },
   "source": [
    "## 4. Visualize CommonRoad scenarios\n",
    "There is a visualization tool in `commonroad_rl/tools`, which can be executed by a simple command at the terminal; for example,  \n",
    "`python -m commonroad_rl.tools.visualize_cr tutorials/data/highD/xmls/DEU_LocationB-3_1_T-1.xml`. \n",
    "\n",
    "However, this script does not work for Jupyter notebook because of a backend error. Therefore, we utilize here the `commonroad-io` package. Let's try it with a sample scenario."
   ]
  },
  {
   "cell_type": "code",
   "execution_count": 5,
   "metadata": {
    "pycharm": {
     "name": "#%%\n"
    }
   },
   "outputs": [
    {
     "ename": "IndexError",
     "evalue": "list index out of range",
     "output_type": "error",
     "traceback": [
      "\u001b[0;31m---------------------------------------------------------------------------\u001b[0m",
      "\u001b[0;31mIndexError\u001b[0m                                Traceback (most recent call last)",
      "\u001b[0;32m/tmp/ipykernel_3422845/3631010481.py\u001b[0m in \u001b[0;36m<module>\u001b[0;34m\u001b[0m\n\u001b[1;32m     11\u001b[0m \u001b[0;31m# generate path of the file to be opened\u001b[0m\u001b[0;34m\u001b[0m\u001b[0;34m\u001b[0m\u001b[0;34m\u001b[0m\u001b[0m\n\u001b[1;32m     12\u001b[0m \u001b[0mfiles\u001b[0m \u001b[0;34m=\u001b[0m \u001b[0mstr\u001b[0m\u001b[0;34m(\u001b[0m\u001b[0mbase_path\u001b[0m\u001b[0;34m)\u001b[0m \u001b[0;34m+\u001b[0m \u001b[0;34m\"/tutorials/data/highD/xmls/*.xml\"\u001b[0m\u001b[0;34m\u001b[0m\u001b[0;34m\u001b[0m\u001b[0m\n\u001b[0;32m---> 13\u001b[0;31m \u001b[0mfile_path\u001b[0m \u001b[0;34m=\u001b[0m \u001b[0msorted\u001b[0m\u001b[0;34m(\u001b[0m\u001b[0mglob\u001b[0m\u001b[0;34m.\u001b[0m\u001b[0mglob\u001b[0m\u001b[0;34m(\u001b[0m\u001b[0mfiles\u001b[0m\u001b[0;34m)\u001b[0m\u001b[0;34m)\u001b[0m\u001b[0;34m[\u001b[0m\u001b[0;36m0\u001b[0m\u001b[0;34m]\u001b[0m\u001b[0;34m\u001b[0m\u001b[0;34m\u001b[0m\u001b[0m\n\u001b[0m\u001b[1;32m     14\u001b[0m \u001b[0;34m\u001b[0m\u001b[0m\n\u001b[1;32m     15\u001b[0m \u001b[0;31m# read in the scenario and planning problem set\u001b[0m\u001b[0;34m\u001b[0m\u001b[0;34m\u001b[0m\u001b[0;34m\u001b[0m\u001b[0m\n",
      "\u001b[0;31mIndexError\u001b[0m: list index out of range"
     ]
    }
   ],
   "source": [
    "#%matplotlib inline\n",
    "\n",
    "import glob\n",
    "import matplotlib.pyplot as plt\n",
    "from IPython import display\n",
    "\n",
    "# import functions to read xml file and visualize commonroad objects\n",
    "from commonroad.common.file_reader import CommonRoadFileReader\n",
    "from commonroad.visualization.mp_renderer import MPRenderer\n",
    "\n",
    "# generate path of the file to be opened\n",
    "files = str(base_path) + \"/tutorials/data/highD/xmls/*.xml\"\n",
    "file_path = sorted(glob.glob(files))[0]\n",
    "\n",
    "# read in the scenario and planning problem set\n",
    "scenario, planning_problem_set = CommonRoadFileReader(file_path).open()\n",
    "\n",
    "# plot the scenario for 40 time step, here each time step corresponds to 0.1 second\n",
    "for i in range(0, 80):\n",
    "\n",
    "    plt.figure(figsize=(25, 10))\n",
    "    rnd = MPRenderer()\n",
    "    # plot the scenario at different time step\n",
    "    scenario.draw(rnd, draw_params={'time_begin': i})\n",
    "    # plot the planning problem set\n",
    "    planning_problem_set.draw(rnd)\n",
    "    rnd.render()"
   ]
  },
  {
   "cell_type": "markdown",
   "metadata": {
    "pycharm": {
     "name": "#%% md\n"
    }
   },
   "source": [
    "## 5. Convert .xml files to .pickle data\n",
    "Since an RL training/testing session involves tens of thousands of iterations and accesses to the scenarios, it is a good idea to convert the `.xml` files to `.pickle` format so that they will be loaded more efficiently during training and testing. For example, loading 3000 `.xml` files takes about 2h while loading the same amount of `.pickle` files takes only 10min.\n",
    "\n",
    "Furthermore, this script separates road networks and obstacles since lots of scenario could share the road network data. Road networks are stored in `meta_scenario` folder, whereas obstacles are stored in the `problem` folder. This is done with a conversion tool in `commonroad_rl/tools/pickle_scenario`."
   ]
  },
  {
   "cell_type": "code",
   "execution_count": null,
   "metadata": {
    "pycharm": {
     "name": "#%%\n"
    }
   },
   "outputs": [],
   "source": [
    "!python -m commonroad_rl.tools.pickle_scenario.xml_to_pickle -i tutorials/data/highD/xmls -o tutorials/data/highD/pickles"
   ]
  },
  {
   "cell_type": "markdown",
   "metadata": {
    "pycharm": {
     "name": "#%% md\n"
    }
   },
   "source": [
    "Now in the output folder `tutorials/data/highD/pickles`, there should be a `meta_scenario` folder containing meta information and a `problem` folder containing 51 `.pickle` files."
   ]
  },
  {
   "cell_type": "markdown",
   "metadata": {
    "pycharm": {
     "name": "#%% md\n"
    }
   },
   "source": [
    "## 6. Split .pickle data for training and testing\n",
    "As a final step, let's split the 51 problems into training and testing sets with a ratio of 7:3 randomly, again using a provided script in `commonroad_rl/utils_run`."
   ]
  },
  {
   "cell_type": "code",
   "execution_count": null,
   "metadata": {
    "pycharm": {
     "name": "#%%\n"
    }
   },
   "outputs": [],
   "source": [
    "!python -m commonroad_rl.utils_run.split_dataset -i tutorials/data/highD/pickles/problem -otrain tutorials/data/highD/pickles/problem_train -otest tutorials/data/highD/pickles/problem_test -tr_r 0.7"
   ]
  },
  {
   "cell_type": "markdown",
   "metadata": {
    "pycharm": {
     "name": "#%% md\n"
    }
   },
   "source": [
    "Now in `tutorials/data/highD/pickles`, there should be a `problem_train` folder containing 35 pickles and a `problem_test` folder containing 16 pickles."
   ]
  },
  {
   "cell_type": "markdown",
   "metadata": {
    "pycharm": {
     "name": "#%% md\n"
    }
   },
   "source": [
    "**Note**: For each data conversion step, we provide bash script to enable converting the data on multiple threads. Please use those scripts instead if you want to convert the whole dataset to save runtime."
   ]
  },
  {
   "cell_type": "markdown",
   "metadata": {
    "pycharm": {
     "name": "#%% md\n"
    }
   },
   "source": [
    "## 7. Separate training data for multi envs (skip this step if not using multi env)\n",
    "To train the model on mulitple envs, the scenarios need to be separated into different files. we can use a provided script in `commonroad_rl/tools/pickles_scenario` to do it  \n",
    "Here is an example to separate all .pickles files (both train and test) into 5 folders"
   ]
  },
  {
   "cell_type": "code",
   "execution_count": null,
   "metadata": {
    "pycharm": {
     "name": "#%%\n"
    }
   },
   "outputs": [],
   "source": [
    "!python -m commonroad_rl.tools.pickle_scenario.copy_files -i tutorials/data/highD/pickles/problem_train -o tutorials/data/highD/pickles/problem_train -f *.pickle -n 5 "
   ]
  },
  {
   "cell_type": "code",
   "execution_count": null,
   "metadata": {
    "pycharm": {
     "name": "#%%\n"
    }
   },
   "outputs": [],
   "source": [
    "!python -m commonroad_rl.tools.pickle_scenario.copy_files -i tutorials/data/highD/pickles/problem_test -o tutorials/data/highD/pickles/problem_test -f *.pickle -n 5"
   ]
  },
  {
   "cell_type": "markdown",
   "metadata": {
    "pycharm": {
     "name": "#%% md\n"
    }
   },
   "source": [
    "Now in the output folder `tutorials/data/highD/pickles/problem_train` and `tutorials/data/highD/pickles/problem_test`, you should have 5 folders name `0`,`1`,`2`,`3`,`4`, each contains different part of the scenarios."
   ]
  },
  {
   "cell_type": "code",
   "execution_count": null,
   "metadata": {
    "pycharm": {
     "name": "#%%\n"
    }
   },
   "outputs": [],
   "source": []
  }
 ],
 "metadata": {
  "@webio": {
   "lastCommId": null,
   "lastKernelId": null
  },
  "interpreter": {
   "hash": "73abf8ba40d41d87e6eea6406bcf380a61e7a0047e863af28e9c8591a3d36ce7"
  },
  "kernelspec": {
   "display_name": "Python 3 (ipykernel)",
   "language": "python",
   "name": "python3"
  },
  "language_info": {
   "codemirror_mode": {
    "name": "ipython",
    "version": 3
   },
   "file_extension": ".py",
   "mimetype": "text/x-python",
   "name": "python",
   "nbconvert_exporter": "python",
   "pygments_lexer": "ipython3",
   "version": "3.7.12"
  },
  "metadata": {
   "interpreter": {
    "hash": "93ddbae6933170d26757955f07afdbe3a82b6d7d85b7f8bb469b70bc7f83bf90"
   }
  }
 },
 "nbformat": 4,
 "nbformat_minor": 4
}
